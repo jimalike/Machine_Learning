{
 "cells": [
  {
   "cell_type": "code",
   "execution_count": null,
   "id": "57dddc3f",
   "metadata": {},
   "outputs": [],
   "source": [
    "import IPython\n",
    "import sys\n",
    "\n",
    "def clean_notebook():\n",
    "    IPython.display.clear_output(wait=True)\n",
    "    print(\"Notebook cleaned.\")\n",
    "\n",
    "!pip install openai\n",
    "!pip install python-dotenv\n",
    "\n",
    "# Clean up the notebook\n",
    "clean_notebook()"
   ]
  },
  {
   "cell_type": "code",
   "execution_count": 2,
   "id": "18f1bbc7",
   "metadata": {},
   "outputs": [
    {
     "data": {
      "text/plain": [
       "True"
      ]
     },
     "execution_count": 2,
     "metadata": {},
     "output_type": "execute_result"
    }
   ],
   "source": [
    "import os\n",
    "from openai import OpenAI\n",
    "from dotenv import load_dotenv\n",
    "\n",
    "# Load environment variables\n",
    "load_dotenv()"
   ]
  },
  {
   "cell_type": "code",
   "execution_count": 3,
   "id": "5d8d1045",
   "metadata": {},
   "outputs": [],
   "source": [
    "import os\n",
    "from openai import OpenAI\n",
    "\n",
    "client = OpenAI(api_key=os.getenv(\"OPENAI_API_KEY\"))\n",
    "model_name = \"gpt-4.1\"    \n"
   ]
  },
  {
   "cell_type": "code",
   "execution_count": 4,
   "id": "d202ffb5",
   "metadata": {},
   "outputs": [
    {
     "name": "stdout",
     "output_type": "stream",
     "text": [
      "Explanation: ('name', 'Science Fair')\n",
      "Explanation: ('date', 'Friday')\n",
      "Explanation: ('participants', ['Alice', 'Bob'])\n"
     ]
    }
   ],
   "source": [
    "from openai import OpenAI\n",
    "from pydantic import BaseModel\n",
    "import openai\n",
    "\n",
    "client = OpenAI()\n",
    "\n",
    "class CalendarEvent(BaseModel):\n",
    "    name: str\n",
    "    date: str\n",
    "    participants: list[str]\n",
    "\n",
    "response = client.responses.parse(\n",
    "    model=\"gpt-4o-2024-08-06\",\n",
    "    input=[\n",
    "        {\"role\": \"system\", \"content\": \"Extract the event information.\"},\n",
    "        {\n",
    "            \"role\": \"user\",\n",
    "            \"content\": \"Alice and Bob are going to a science fair on Friday.\",\n",
    "        },\n",
    "    ],\n",
    "    text_format=CalendarEvent,\n",
    ")\n",
    "Calendar_Event = response.output_parsed\n",
    "\n",
    "for step in Calendar_Event:\n",
    "    print(f\"Explanation: {step}\")\n",
    "    # print(f\"Output: {step.date}\")"
   ]
  },
  {
   "cell_type": "code",
   "execution_count": 4,
   "id": "72eb8f1c",
   "metadata": {},
   "outputs": [
    {
     "name": "stdout",
     "output_type": "stream",
     "text": [
      "📅 Event Details Extracted:\n"
     ]
    },
    {
     "ename": "AttributeError",
     "evalue": "'tuple' object has no attribute 'name'",
     "output_type": "error",
     "traceback": [
      "\u001b[1;31m---------------------------------------------------------------------------\u001b[0m",
      "\u001b[1;31mAttributeError\u001b[0m                            Traceback (most recent call last)",
      "Cell \u001b[1;32mIn[4], line 4\u001b[0m\n\u001b[0;32m      1\u001b[0m \u001b[38;5;28;01mfor\u001b[39;00m event \u001b[38;5;129;01min\u001b[39;00m Calendar_Event:\n\u001b[0;32m      2\u001b[0m \u001b[38;5;66;03m# Display the result\u001b[39;00m\n\u001b[0;32m      3\u001b[0m     \u001b[38;5;28mprint\u001b[39m(\u001b[38;5;124m\"\u001b[39m\u001b[38;5;124m📅 Event Details Extracted:\u001b[39m\u001b[38;5;124m\"\u001b[39m)\n\u001b[1;32m----> 4\u001b[0m     \u001b[38;5;28mprint\u001b[39m(\u001b[38;5;124mf\u001b[39m\u001b[38;5;124m\"\u001b[39m\u001b[38;5;124mEvent Name       : \u001b[39m\u001b[38;5;132;01m{\u001b[39;00m\u001b[43mevent\u001b[49m\u001b[38;5;241;43m.\u001b[39;49m\u001b[43mname\u001b[49m\u001b[38;5;132;01m}\u001b[39;00m\u001b[38;5;124m\"\u001b[39m)\n\u001b[0;32m      5\u001b[0m     \u001b[38;5;28mprint\u001b[39m(\u001b[38;5;124mf\u001b[39m\u001b[38;5;124m\"\u001b[39m\u001b[38;5;124mEvent Date       : \u001b[39m\u001b[38;5;132;01m{\u001b[39;00mevent\u001b[38;5;241m.\u001b[39mdate\u001b[38;5;132;01m}\u001b[39;00m\u001b[38;5;124m\"\u001b[39m)\n\u001b[0;32m      6\u001b[0m     \u001b[38;5;28mprint\u001b[39m(\u001b[38;5;124mf\u001b[39m\u001b[38;5;124m\"\u001b[39m\u001b[38;5;124mParticipants     : \u001b[39m\u001b[38;5;132;01m{\u001b[39;00mevent\u001b[38;5;241m.\u001b[39mparticipants\u001b[38;5;132;01m}\u001b[39;00m\u001b[38;5;124m\"\u001b[39m)\n",
      "\u001b[1;31mAttributeError\u001b[0m: 'tuple' object has no attribute 'name'"
     ]
    }
   ],
   "source": [
    "for event in Calendar_Event:\n",
    "# Display the result\n",
    "    print(\"📅 Event Details Extracted:\")\n",
    "    print(f\"Event Name       : {event.name}\")\n",
    "    print(f\"Event Date       : {event.date}\")\n",
    "    print(f\"Participants     : {event.participants}\")\n"
   ]
  },
  {
   "cell_type": "code",
   "execution_count": null,
   "id": "8b1cdda8",
   "metadata": {},
   "outputs": [],
   "source": [
    "from openai import OpenAI\n",
    "from pydantic import BaseModel\n",
    "\n",
    "client = OpenAI()\n",
    "\n",
    "class Step(BaseModel):\n",
    "    explanation: str\n",
    "    output: str\n",
    "\n",
    "class MathReasoning(BaseModel):\n",
    "    steps: list[Step]\n",
    "    final_answer: str\n",
    "\n",
    "response = client.responses.parse(\n",
    "    model=\"gpt-4o-2024-08-06\",\n",
    "    input=[\n",
    "        {\n",
    "            \"role\": \"system\",\n",
    "            \"content\": \"You are a helpful math tutor. Guide the user through the solution step by step.\",\n",
    "        },\n",
    "        {\"role\": \"user\", \"content\": \"how can I solve 8x + 7 = -23\"},\n",
    "    ],\n",
    "    text_format=MathReasoning,\n",
    ")\n",
    "\n",
    "math_reasoning = response.output_parsed\n",
    "\n",
    "for step in math_reasoning.steps:\n",
    "    print(f\"Explanation: {step.explanation}\")\n",
    "    print(f\"Output: {step.output}\")"
   ]
  },
  {
   "cell_type": "markdown",
   "id": "77d6be1b",
   "metadata": {},
   "source": [
    "# Event with Attendees\n",
    "\n"
   ]
  },
  {
   "cell_type": "code",
   "execution_count": null,
   "id": "c3f4c2c9",
   "metadata": {},
   "outputs": [],
   "source": [
    "from openai import OpenAI\n",
    "from pydantic import BaseModel\n",
    "from typing import List\n",
    "\n",
    "class Event(BaseModel):\n",
    "    name: str\n",
    "    date: str\n",
    "    location: str\n",
    "    attendees: List[str]\n",
    "\n",
    "client = OpenAI()\n",
    "\n",
    "response = client.beta.chat.completions.parse(\n",
    "    model=\"gpt-4o-2024-08-06\",\n",
    "    messages=[\n",
    "        {\"role\": \"system\", \"content\": \"Extract the event information.\"},\n",
    "        {\n",
    "            \"role\": \"user\",\n",
    "            \"content\": \"Wedding ceremony on June 20, 2024, in New York, with guests Alice, Bob, and Charlie.\",\n",
    "        },\n",
    "    ],\n",
    "    response_format=Event,\n",
    ")\n",
    "\n",
    "event = response.choices[0].message.parsed\n",
    "\n",
    "# Display results using for loop to check structure\n",
    "for field, value in event.model_dump().items():\n",
    "    print(f\"{field}: {value}\")"
   ]
  },
  {
   "cell_type": "markdown",
   "id": "912761a1",
   "metadata": {},
   "source": [
    "# Event with Categories\n",
    "\n"
   ]
  },
  {
   "cell_type": "code",
   "execution_count": 3,
   "id": "cf1077fe",
   "metadata": {},
   "outputs": [
    {
     "name": "stdout",
     "output_type": "stream",
     "text": [
      "name: Art Exhibition\n",
      "date: November 3, 2024\n",
      "location: Tokyo\n",
      "categories: ['modern', 'abstract']\n"
     ]
    }
   ],
   "source": [
    "from openai import OpenAI\n",
    "from pydantic import BaseModel\n",
    "from typing import List\n",
    "\n",
    "class Event(BaseModel):\n",
    "    name: str\n",
    "    date: str\n",
    "    location: str\n",
    "    categories: List[str]\n",
    "\n",
    "client = OpenAI()\n",
    "\n",
    "response = client.beta.chat.completions.parse(\n",
    "    model=\"gpt-4o-2024-08-06\",\n",
    "    messages=[\n",
    "        {\"role\": \"system\", \"content\": \"Extract the event information.\"},\n",
    "        {\n",
    "            \"role\": \"user\",\n",
    "            \"content\": \"Art Exhibition on November 3, 2024, in Tokyo, categories: modern, abstract.\",\n",
    "        },\n",
    "    ],\n",
    "    response_format=Event,\n",
    ")\n",
    "\n",
    "event = response.choices[0].message.parsed\n",
    "\n",
    "# Display results using for loop to check structure\n",
    "for field, value in event.model_dump().items():\n",
    "    print(f\"{field}: {value}\")"
   ]
  },
  {
   "cell_type": "code",
   "execution_count": null,
   "id": "d189def8",
   "metadata": {},
   "outputs": [],
   "source": [
    "from openai import OpenAI\n",
    "from pydantic import BaseModel\n",
    "from typing import List\n",
    "\n",
    "class Event(BaseModel):\n",
    "    name: str\n",
    "    date: str\n",
    "    location: str\n",
    "    sponsors: List[str]\n",
    "\n",
    "client = OpenAI()\n",
    "\n",
    "response = client.beta.chat.completions.parse(\n",
    "    model=\"gpt-4o-2024-08-06\",\n",
    "    messages=[\n",
    "        {\"role\": \"system\", \"content\": \"Extract the event information.\"},\n",
    "        {\n",
    "            \"role\": \"user\",\n",
    "            \"content\": \"Sports Event on January 22, 2025, in Sydney, sponsored by Nike and Adidas.\",\n",
    "        },\n",
    "    ],\n",
    "    response_format=Event,\n",
    ")\n",
    "\n",
    "event = response.choices[0].message.parsed\n",
    "\n",
    "# Display results using for loop to check structure\n",
    "for field, value in event.model_dump().items():\n",
    "    print(f\"{field}: {value}\")"
   ]
  },
  {
   "cell_type": "markdown",
   "id": "1aff2a57",
   "metadata": {},
   "source": [
    "#  Event with List of Nested Attendees\n",
    "\n"
   ]
  },
  {
   "cell_type": "code",
   "execution_count": 4,
   "id": "1af8a7a9",
   "metadata": {},
   "outputs": [
    {
     "name": "stdout",
     "output_type": "stream",
     "text": [
      "name: Team Meeting\n",
      "date: May 10, 2025\n",
      "location: Office HQ\n",
      "attendees:\n",
      "  Attendee 1:\n",
      "    name: Alice\n",
      "    role: Manager\n",
      "    email: alice@email.com\n",
      "  Attendee 2:\n",
      "    name: Bob\n",
      "    role: Engineer\n",
      "    email: bob@email.com\n"
     ]
    }
   ],
   "source": [
    "from openai import OpenAI\n",
    "from pydantic import BaseModel\n",
    "from typing import List\n",
    "\n",
    "class Attendee(BaseModel):\n",
    "    name: str\n",
    "    role: str\n",
    "    email: str\n",
    "\n",
    "class Event(BaseModel):\n",
    "    name: str\n",
    "    date: str\n",
    "    location: str\n",
    "    attendees: List[Attendee]\n",
    "\n",
    "client = OpenAI()\n",
    "\n",
    "response = client.beta.chat.completions.parse(\n",
    "    model=\"gpt-4o-2024-08-06\",\n",
    "    messages=[\n",
    "        {\"role\": \"system\", \"content\": \"Extract the event information.\"},\n",
    "        {\n",
    "            \"role\": \"user\",\n",
    "            \"content\": \"Team Meeting on May 10, 2025, in Office HQ, attendees: Alice (Manager, alice@email.com), Bob (Engineer, bob@email.com).\",\n",
    "        },\n",
    "    ],\n",
    "    response_format=Event,\n",
    ")\n",
    "\n",
    "event = response.choices[0].message.parsed\n",
    "\n",
    "# Display results using for loop to check structure\n",
    "for field, value in event.model_dump().items():\n",
    "    if isinstance(value, list):\n",
    "        print(f\"{field}:\")\n",
    "        for idx, item in enumerate(value, 1):\n",
    "            print(f\"  Attendee {idx}:\")\n",
    "            for subfield, subvalue in item.items():\n",
    "                print(f\"    {subfield}: {subvalue}\")\n",
    "    else:\n",
    "        print(f\"{field}: {value}\")"
   ]
  },
  {
   "cell_type": "markdown",
   "id": "deee7ff8",
   "metadata": {},
   "source": [
    "# Event with Nested Organizer and Sponsors\n",
    "\n"
   ]
  },
  {
   "cell_type": "code",
   "execution_count": 1,
   "id": "26d7d89f",
   "metadata": {},
   "outputs": [
    {
     "ename": "OpenAIError",
     "evalue": "The api_key client option must be set either by passing api_key to the client or by setting the OPENAI_API_KEY environment variable",
     "output_type": "error",
     "traceback": [
      "\u001b[1;31m---------------------------------------------------------------------------\u001b[0m",
      "\u001b[1;31mOpenAIError\u001b[0m                               Traceback (most recent call last)",
      "Cell \u001b[1;32mIn[1], line 20\u001b[0m\n\u001b[0;32m     17\u001b[0m     organizer: Organizer\n\u001b[0;32m     18\u001b[0m     sponsors: List[Sponsor]\n\u001b[1;32m---> 20\u001b[0m client \u001b[38;5;241m=\u001b[39m \u001b[43mOpenAI\u001b[49m\u001b[43m(\u001b[49m\u001b[43m)\u001b[49m\n\u001b[0;32m     22\u001b[0m response \u001b[38;5;241m=\u001b[39m client\u001b[38;5;241m.\u001b[39mbeta\u001b[38;5;241m.\u001b[39mchat\u001b[38;5;241m.\u001b[39mcompletions\u001b[38;5;241m.\u001b[39mparse(\n\u001b[0;32m     23\u001b[0m     model\u001b[38;5;241m=\u001b[39m\u001b[38;5;124m\"\u001b[39m\u001b[38;5;124mgpt-4o-2024-08-06\u001b[39m\u001b[38;5;124m\"\u001b[39m,\n\u001b[0;32m     24\u001b[0m     messages\u001b[38;5;241m=\u001b[39m[\n\u001b[1;32m   (...)\u001b[0m\n\u001b[0;32m     31\u001b[0m     response_format\u001b[38;5;241m=\u001b[39mEvent,\n\u001b[0;32m     32\u001b[0m )\n\u001b[0;32m     34\u001b[0m event \u001b[38;5;241m=\u001b[39m response\u001b[38;5;241m.\u001b[39mchoices[\u001b[38;5;241m0\u001b[39m]\u001b[38;5;241m.\u001b[39mmessage\u001b[38;5;241m.\u001b[39mparsed\n",
      "File \u001b[1;32mc:\\Users\\Supanut\\AppData\\Local\\Programs\\Python\\Python312\\Lib\\site-packages\\openai\\_client.py:130\u001b[0m, in \u001b[0;36mOpenAI.__init__\u001b[1;34m(self, api_key, organization, project, webhook_secret, base_url, websocket_base_url, timeout, max_retries, default_headers, default_query, http_client, _strict_response_validation)\u001b[0m\n\u001b[0;32m    128\u001b[0m     api_key \u001b[38;5;241m=\u001b[39m os\u001b[38;5;241m.\u001b[39menviron\u001b[38;5;241m.\u001b[39mget(\u001b[38;5;124m\"\u001b[39m\u001b[38;5;124mOPENAI_API_KEY\u001b[39m\u001b[38;5;124m\"\u001b[39m)\n\u001b[0;32m    129\u001b[0m \u001b[38;5;28;01mif\u001b[39;00m api_key \u001b[38;5;129;01mis\u001b[39;00m \u001b[38;5;28;01mNone\u001b[39;00m:\n\u001b[1;32m--> 130\u001b[0m     \u001b[38;5;28;01mraise\u001b[39;00m OpenAIError(\n\u001b[0;32m    131\u001b[0m         \u001b[38;5;124m\"\u001b[39m\u001b[38;5;124mThe api_key client option must be set either by passing api_key to the client or by setting the OPENAI_API_KEY environment variable\u001b[39m\u001b[38;5;124m\"\u001b[39m\n\u001b[0;32m    132\u001b[0m     )\n\u001b[0;32m    133\u001b[0m \u001b[38;5;28mself\u001b[39m\u001b[38;5;241m.\u001b[39mapi_key \u001b[38;5;241m=\u001b[39m api_key\n\u001b[0;32m    135\u001b[0m \u001b[38;5;28;01mif\u001b[39;00m organization \u001b[38;5;129;01mis\u001b[39;00m \u001b[38;5;28;01mNone\u001b[39;00m:\n",
      "\u001b[1;31mOpenAIError\u001b[0m: The api_key client option must be set either by passing api_key to the client or by setting the OPENAI_API_KEY environment variable"
     ]
    }
   ],
   "source": [
    "from openai import OpenAI\n",
    "from pydantic import BaseModel\n",
    "from typing import List\n",
    "\n",
    "class Organizer(BaseModel):\n",
    "    name: str\n",
    "    contact: str\n",
    "\n",
    "class Sponsor(BaseModel):\n",
    "    name: str\n",
    "    contribution: str\n",
    "\n",
    "class Event(BaseModel):\n",
    "    name: str\n",
    "    date: str\n",
    "    location: str\n",
    "    organizer: Organizer\n",
    "    sponsors: List[Sponsor]\n",
    "\n",
    "client = OpenAI()\n",
    "\n",
    "response = client.beta.chat.completions.parse(\n",
    "    model=\"gpt-4o-2024-08-06\",\n",
    "    messages=[\n",
    "        {\"role\": \"system\", \"content\": \"Extract the event information.\"},\n",
    "        {\n",
    "            \"role\": \"user\",\n",
    "            \"content\": \"Expo on October 10, 2025, in New York. Organizer: Tech Corp (info@tech.com). Sponsors: Google (platinum), Apple (gold).\",\n",
    "        },\n",
    "    ],\n",
    "    response_format=Event,\n",
    ")\n",
    "\n",
    "event = response.choices[0].message.parsed\n",
    "\n",
    "# Display results using for loop to check structure\n",
    "for field, value in event.model_dump().items():\n",
    "    if isinstance(value, dict):\n",
    "        print(f\"{field}:\")\n",
    "        for subfield, subvalue in value.items():\n",
    "            print(f\"  {subfield}: {subvalue}\")\n",
    "    elif isinstance(value, list):\n",
    "        print(f\"{field}:\")\n",
    "        for idx, item in enumerate(value, 1):\n",
    "            print(f\"  Sponsor {idx}:\")\n",
    "            for subfield, subvalue in item.items():\n",
    "                print(f\"    {subfield}: {subvalue}\")\n",
    "    else:\n",
    "        print(f\"{field}: {value}\")"
   ]
  },
  {
   "cell_type": "code",
   "execution_count": null,
   "id": "27c88265",
   "metadata": {},
   "outputs": [],
   "source": []
  }
 ],
 "metadata": {
  "kernelspec": {
   "display_name": "Python 3",
   "language": "python",
   "name": "python3"
  },
  "language_info": {
   "codemirror_mode": {
    "name": "ipython",
    "version": 3
   },
   "file_extension": ".py",
   "mimetype": "text/x-python",
   "name": "python",
   "nbconvert_exporter": "python",
   "pygments_lexer": "ipython3",
   "version": "3.12.6"
  }
 },
 "nbformat": 4,
 "nbformat_minor": 5
}
