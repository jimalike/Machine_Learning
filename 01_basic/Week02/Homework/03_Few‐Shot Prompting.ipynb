{
 "cells": [
  {
   "cell_type": "markdown",
   "id": "c6e7784d",
   "metadata": {},
   "source": [
    "\n",
    "\n",
    "## หัวข้อ: การแยก Named Entities ด้วย OpenAI API\n",
    "\n",
    "---\n",
    "\n",
    "## 🎯 วัตถุประสงค์\n",
    "\n",
    "ให้เขียน prompt สำหรับใช้งานร่วมกับ **OpenAI API** เพื่อแยก **Named Entities** จากประโยคภาษาไทย พร้อมจัดหมวดหมู่ให้ถูกต้องตามที่กำหนด และแสดงผลลัพธ์ในรูปแบบ **JSON dictionary**\n",
    "\n",
    "> ❗ **ห้าม** มีคำอธิบายเพิ่มเติมอื่นใดนอกจาก JSON เท่านั้น\n",
    "\n",
    "---\n",
    "\n",
    "## ✅ หมวดหมู่ของ Named Entities ที่ต้องใช้\n",
    "\n",
    "| หมวดหมู่          | ความหมาย                            |\n",
    "| ----------------- | ----------------------------------- |\n",
    "| 👤 บุคคล          | ชื่อบุคคล                           |\n",
    "| 🏛️ องค์กร        | หน่วยงาน บริษัท รัฐวิสาหกิจ         |\n",
    "| 📍 สถานที่        | จังหวัด เมือง ประเทศ                |\n",
    "| 🗓️ วันที่ / เวลา | วัน เดือน ปี เวลา                   |\n",
    "| 🔢 จำนวน          | ตัวเลขที่มีหน่วย เช่น กรัม กิโลเมตร |\n",
    "| 💰 จำนวนเงิน      | ตัวเลขพร้อมสกุลเงิน                 |\n",
    "| 📊 เปอร์เซ็นต์    | ค่าร้อยละ เช่น 75%                  |\n",
    "| 📚 ผลงาน          | ชื่อหนังสือ เพลง ภาพยนตร์ ฯลฯ       |\n",
    "| 📦 สินค้า         | สินค้าหรือผลิตภัณฑ์                 |\n",
    "| 🈯 ภาษา           | ภาษาที่กล่าวถึง เช่น ภาษาไทย        |\n",
    "\n",
    "---\n",
    "\n",
    "## 🧪 ตัวอย่าง Prompt & Output\n",
    "\n",
    "### 🔹 ตัวอย่างที่ 1\n",
    "\n",
    "**ประโยค:**\n",
    "`สมเด็จพระนางเจ้าสิริกิติ์ เสด็จเยือนกรุงเทพมหานครเมื่อวันที่ 1 มิถุนายน 2025`\n",
    "\n",
    "**ผลลัพธ์ (JSON):**\n",
    "\n",
    "```json\n",
    "{\n",
    "  \"บุคคล\": \"สมเด็จพระนางเจ้าสิริกิติ์\",\n",
    "  \"สถานที่\": \"กรุงเทพมหานคร\",\n",
    "  \"วันที่\": \"1 มิถุนายน 2025\"\n",
    "}\n",
    "```\n",
    "\n",
    "---\n",
    "\n",
    "### 🔹 ตัวอย่างที่ 2\n",
    "\n",
    "**ประโยค:**\n",
    "`AIS เปิดตัวโปรโมชั่นใหม่สำหรับ iPhone 12`\n",
    "\n",
    "**ผลลัพธ์ (JSON):**\n",
    "\n",
    "```json\n",
    "{\n",
    "  \"องค์กร\": \"AIS\",\n",
    "  \"สินค้า\": \"iPhone 12\"\n",
    "}\n",
    "```\n",
    "\n",
    "---\n",
    "\n"
   ]
  },
  {
   "cell_type": "code",
   "execution_count": 2,
   "id": "7db61763",
   "metadata": {},
   "outputs": [
    {
     "name": "stdout",
     "output_type": "stream",
     "text": [
      "Notebook cleaned.\n"
     ]
    }
   ],
   "source": [
    "import IPython\n",
    "import sys\n",
    "\n",
    "def clean_notebook():\n",
    "    IPython.display.clear_output(wait=True)\n",
    "    print(\"Notebook cleaned.\")\n",
    "\n",
    "!pip install openai\n",
    "!pip install gradio\n",
    "!pip install python-dotenv\n",
    "\n",
    "# Clean up the notebook\n",
    "clean_notebook()"
   ]
  },
  {
   "cell_type": "code",
   "execution_count": 3,
   "id": "36c6721c",
   "metadata": {},
   "outputs": [
    {
     "data": {
      "text/plain": [
       "True"
      ]
     },
     "execution_count": 3,
     "metadata": {},
     "output_type": "execute_result"
    }
   ],
   "source": [
    "import os\n",
    "from openai import OpenAI\n",
    "from dotenv import load_dotenv\n",
    "\n",
    "# Load environment variables\n",
    "load_dotenv()"
   ]
  },
  {
   "cell_type": "code",
   "execution_count": 4,
   "id": "2c20a83e",
   "metadata": {},
   "outputs": [],
   "source": [
    "import os\n",
    "from openai import OpenAI\n",
    "\n",
    "client = OpenAI(api_key=os.getenv(\"OPENAI_API_KEY\"))\n",
    "model_name = \"gpt-4.1\"    "
   ]
  },
  {
   "cell_type": "code",
   "execution_count": null,
   "id": "de7fafac",
   "metadata": {},
   "outputs": [
    {
     "ename": "IndentationError",
     "evalue": "expected an indented block after 'for' statement on line 38 (610640078.py, line 39)",
     "output_type": "error",
     "traceback": [
      "\u001b[1;36m  Cell \u001b[1;32mIn[1], line 39\u001b[1;36m\u001b[0m\n\u001b[1;33m    result = extract_entities(question)\u001b[0m\n\u001b[1;37m    ^\u001b[0m\n\u001b[1;31mIndentationError\u001b[0m\u001b[1;31m:\u001b[0m expected an indented block after 'for' statement on line 38\n"
     ]
    }
   ],
   "source": [
    "import os\n",
    "from openai import OpenAI\n",
    "import json\n",
    "\n",
    "# กำหนด API Key\n",
    "client = OpenAI(api_key=os.getenv(\"OPENAI_API_KEY\"))\n",
    "\n",
    "# โมเดลที่ใช้\n",
    "model_name = \"gpt-4.1\"  # หรือ \"gpt-3.5-turbo\" ก็ได้\n",
    "\n",
    "\n",
    "\n",
    "\n",
    "ner_questions = [\n",
    "\"สมเด็จพระนางเจ้าสิริกิติ์ เสด็จเยือนกรุงเทพมหานครเมื่อวันที่ 1 มิถุนายน 2025\",\n",
    "\"AIS เปิดตัวโปรโมชั่นใหม่สำหรับ iPhone 12\",\n",
    "\"ภาพยนตร์เรื่อง เศรษฐศาสตร์พอเพียง ได้รับรางวัลระดับนานาชาติ\",\n",
    "\"บริษัท ปตท. จำกัด (มหาชน) มียอดขายเพิ่มขึ้น 75%\",\n",
    "\"ฉันซื้อแอปเปิ้ลน้ำหนัก 500 กรัม ในราคา 1,000 บาท\",\n",
    "\"นักเรียนไทยควรเรียนรู้ภาษาอังกฤษและภาษาไทยควบคู่กันไป\",\n",
    "\"วันที่ 10 ตุลาคม 2025 จะมีงานเทศกาลที่จังหวัดเชียงใหม่\",\n",
    "\"ดร.สมชาย เป็นผู้เขียนหนังสือเกี่ยวกับปัญญาประดิษฐ์\",\n",
    "\"Apple เปิดตัวผลิตภัณฑ์ใหม่ชื่อ MacBook Pro\",\n",
    "\"เพลย์ลิสต์เพลงของเขามีแต่เพลงจากวง Bodyslam\",\n",
    "\"Google ประกาศตั้งสำนักงานแห่งใหม่ในประเทศสิงคโปร์\",\n",
    "\"ราคาทองคำวันนี้อยู่ที่ 32,500 บาทต่อบาททองคำ\",\n",
    "\"บริษัท Tesla มีมูลค่าตลาดเพิ่มขึ้น 10%\",\n",
    "\"งานสัปดาห์หนังสือแห่งชาติจะจัดขึ้นที่กรุงเทพฯ\",\n",
    "\"ภาษาอังกฤษเป็นภาษาสากลที่ใช้ในหลายประเทศ\",\n",
    "\"หนังสือเรื่อง 'ปรัชญาชีวิต' แต่งโดย อาจารย์ไพฑูรย์\",\n",
    "\"Samsung Galaxy S24 มีกล้องที่มีความละเอียดสูงถึง 200 ล้านพิกเซล\",\n",
    "\"ในวันที่ 14 กุมภาพันธ์ ร้านค้าส่วนใหญ่มีโปรโมชั่นลดราคา\",\n",
    "\"ผลิตภัณฑ์จากญี่ปุ่นได้รับความนิยมอย่างมากในประเทศไทย\",\n",
    "\"นักกีฬาชื่อดังจากประเทศฝรั่งเศสมาเยือนกรุงเทพฯ\"\n",
    "]\n",
    "\n",
    "\n",
    "for index, question in enumerate(ner_questions):\n",
    "    result = extract_entities(question)\n",
    "print(f\"Question {index + 1}: {question}\")\n",
    "print(f\"Result: {result}\\n\")    "
   ]
  }
 ],
 "metadata": {
  "kernelspec": {
   "display_name": "Python 3",
   "language": "python",
   "name": "python3"
  },
  "language_info": {
   "codemirror_mode": {
    "name": "ipython",
    "version": 3
   },
   "file_extension": ".py",
   "mimetype": "text/x-python",
   "name": "python",
   "nbconvert_exporter": "python",
   "pygments_lexer": "ipython3",
   "version": "3.12.6"
  }
 },
 "nbformat": 4,
 "nbformat_minor": 5
}
